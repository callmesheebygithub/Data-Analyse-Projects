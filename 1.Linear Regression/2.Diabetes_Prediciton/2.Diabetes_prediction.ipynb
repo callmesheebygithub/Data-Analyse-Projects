{
 "cells": [
  {
   "cell_type": "code",
   "execution_count": 93,
   "id": "11a3225a",
   "metadata": {},
   "outputs": [],
   "source": [
    "import numpy as np\n",
    "import pandas as pd\n",
    "import matplotlib.pyplot as plt\n",
    "import seaborn as sns\n",
    "import scipy.stats as stats\n",
    "import plotly.express as px\n",
    "import plotly.graph_objects as go\n",
    "\n",
    "from sklearn.metrics import mean_absolute_error,mean_squared_error,r2_score\n",
    "from sklearn.preprocessing import StandardScaler\n",
    "from sklearn.model_selection import train_test_split\n",
    "from sklearn.linear_model import LinearRegression\n"
   ]
  },
  {
   "cell_type": "markdown",
   "id": "82ceb5bf",
   "metadata": {},
   "source": [
    "## Upload Dataset"
   ]
  },
  {
   "cell_type": "code",
   "execution_count": 94,
   "id": "f147bf5e",
   "metadata": {},
   "outputs": [
    {
     "data": {
      "text/html": [
       "<div>\n",
       "<style scoped>\n",
       "    .dataframe tbody tr th:only-of-type {\n",
       "        vertical-align: middle;\n",
       "    }\n",
       "\n",
       "    .dataframe tbody tr th {\n",
       "        vertical-align: top;\n",
       "    }\n",
       "\n",
       "    .dataframe thead th {\n",
       "        text-align: right;\n",
       "    }\n",
       "</style>\n",
       "<table border=\"1\" class=\"dataframe\">\n",
       "  <thead>\n",
       "    <tr style=\"text-align: right;\">\n",
       "      <th></th>\n",
       "      <th>Unnamed: 0</th>\n",
       "      <th>Pregnancies</th>\n",
       "      <th>Glucose</th>\n",
       "      <th>BloodPressure</th>\n",
       "      <th>SkinThickness</th>\n",
       "      <th>Insulin</th>\n",
       "      <th>BMI</th>\n",
       "      <th>DiabetesPedigreeFunction</th>\n",
       "      <th>Age</th>\n",
       "      <th>Outcome</th>\n",
       "    </tr>\n",
       "  </thead>\n",
       "  <tbody>\n",
       "    <tr>\n",
       "      <th>637</th>\n",
       "      <td>637</td>\n",
       "      <td>2</td>\n",
       "      <td>94</td>\n",
       "      <td>76</td>\n",
       "      <td>18</td>\n",
       "      <td>66</td>\n",
       "      <td>31.6</td>\n",
       "      <td>0.649</td>\n",
       "      <td>23</td>\n",
       "      <td>0</td>\n",
       "    </tr>\n",
       "    <tr>\n",
       "      <th>178</th>\n",
       "      <td>178</td>\n",
       "      <td>5</td>\n",
       "      <td>143</td>\n",
       "      <td>78</td>\n",
       "      <td>0</td>\n",
       "      <td>0</td>\n",
       "      <td>45.0</td>\n",
       "      <td>0.190</td>\n",
       "      <td>47</td>\n",
       "      <td>0</td>\n",
       "    </tr>\n",
       "    <tr>\n",
       "      <th>599</th>\n",
       "      <td>599</td>\n",
       "      <td>1</td>\n",
       "      <td>109</td>\n",
       "      <td>38</td>\n",
       "      <td>18</td>\n",
       "      <td>120</td>\n",
       "      <td>23.1</td>\n",
       "      <td>0.407</td>\n",
       "      <td>26</td>\n",
       "      <td>0</td>\n",
       "    </tr>\n",
       "    <tr>\n",
       "      <th>262</th>\n",
       "      <td>262</td>\n",
       "      <td>4</td>\n",
       "      <td>95</td>\n",
       "      <td>70</td>\n",
       "      <td>32</td>\n",
       "      <td>0</td>\n",
       "      <td>32.1</td>\n",
       "      <td>0.612</td>\n",
       "      <td>24</td>\n",
       "      <td>0</td>\n",
       "    </tr>\n",
       "    <tr>\n",
       "      <th>562</th>\n",
       "      <td>562</td>\n",
       "      <td>1</td>\n",
       "      <td>87</td>\n",
       "      <td>68</td>\n",
       "      <td>34</td>\n",
       "      <td>77</td>\n",
       "      <td>37.6</td>\n",
       "      <td>0.401</td>\n",
       "      <td>24</td>\n",
       "      <td>0</td>\n",
       "    </tr>\n",
       "    <tr>\n",
       "      <th>674</th>\n",
       "      <td>674</td>\n",
       "      <td>8</td>\n",
       "      <td>91</td>\n",
       "      <td>82</td>\n",
       "      <td>0</td>\n",
       "      <td>0</td>\n",
       "      <td>35.6</td>\n",
       "      <td>0.587</td>\n",
       "      <td>68</td>\n",
       "      <td>0</td>\n",
       "    </tr>\n",
       "    <tr>\n",
       "      <th>410</th>\n",
       "      <td>410</td>\n",
       "      <td>6</td>\n",
       "      <td>102</td>\n",
       "      <td>90</td>\n",
       "      <td>39</td>\n",
       "      <td>0</td>\n",
       "      <td>35.7</td>\n",
       "      <td>0.674</td>\n",
       "      <td>28</td>\n",
       "      <td>0</td>\n",
       "    </tr>\n",
       "  </tbody>\n",
       "</table>\n",
       "</div>"
      ],
      "text/plain": [
       "     Unnamed: 0  Pregnancies  Glucose  BloodPressure  SkinThickness  Insulin  \\\n",
       "637         637            2       94             76             18       66   \n",
       "178         178            5      143             78              0        0   \n",
       "599         599            1      109             38             18      120   \n",
       "262         262            4       95             70             32        0   \n",
       "562         562            1       87             68             34       77   \n",
       "674         674            8       91             82              0        0   \n",
       "410         410            6      102             90             39        0   \n",
       "\n",
       "      BMI  DiabetesPedigreeFunction  Age  Outcome  \n",
       "637  31.6                     0.649   23        0  \n",
       "178  45.0                     0.190   47        0  \n",
       "599  23.1                     0.407   26        0  \n",
       "262  32.1                     0.612   24        0  \n",
       "562  37.6                     0.401   24        0  \n",
       "674  35.6                     0.587   68        0  \n",
       "410  35.7                     0.674   28        0  "
      ]
     },
     "execution_count": 94,
     "metadata": {},
     "output_type": "execute_result"
    }
   ],
   "source": [
    "data=pd.read_csv('diabetesdataset.csv')\n",
    "data.sample(7)"
   ]
  },
  {
   "cell_type": "markdown",
   "id": "1980ea7a",
   "metadata": {},
   "source": [
    "## Data Analysis"
   ]
  },
  {
   "cell_type": "code",
   "execution_count": 95,
   "id": "eb291152",
   "metadata": {},
   "outputs": [
    {
     "name": "stdout",
     "output_type": "stream",
     "text": [
      "Number Of Rows 768\n",
      "Number Of Columns 10\n"
     ]
    },
    {
     "data": {
      "text/plain": [
       "(768, 10)"
      ]
     },
     "execution_count": 95,
     "metadata": {},
     "output_type": "execute_result"
    }
   ],
   "source": [
    "print(\"Number Of Rows\",data.shape[0])\n",
    "print(\"Number Of Columns\",data.shape[1])\n",
    "data.shape"
   ]
  },
  {
   "cell_type": "code",
   "execution_count": 96,
   "id": "ac84828d",
   "metadata": {},
   "outputs": [
    {
     "name": "stdout",
     "output_type": "stream",
     "text": [
      "<class 'pandas.core.frame.DataFrame'>\n",
      "RangeIndex: 768 entries, 0 to 767\n",
      "Data columns (total 10 columns):\n",
      " #   Column                    Non-Null Count  Dtype  \n",
      "---  ------                    --------------  -----  \n",
      " 0   Unnamed: 0                768 non-null    int64  \n",
      " 1   Pregnancies               768 non-null    int64  \n",
      " 2   Glucose                   768 non-null    int64  \n",
      " 3   BloodPressure             768 non-null    int64  \n",
      " 4   SkinThickness             768 non-null    int64  \n",
      " 5   Insulin                   768 non-null    int64  \n",
      " 6   BMI                       768 non-null    float64\n",
      " 7   DiabetesPedigreeFunction  768 non-null    float64\n",
      " 8   Age                       768 non-null    int64  \n",
      " 9   Outcome                   768 non-null    int64  \n",
      "dtypes: float64(2), int64(8)\n",
      "memory usage: 60.1 KB\n"
     ]
    }
   ],
   "source": [
    "data.info()"
   ]
  },
  {
   "cell_type": "code",
   "execution_count": 97,
   "id": "5daf8c72",
   "metadata": {},
   "outputs": [
    {
     "data": {
      "text/html": [
       "<div>\n",
       "<style scoped>\n",
       "    .dataframe tbody tr th:only-of-type {\n",
       "        vertical-align: middle;\n",
       "    }\n",
       "\n",
       "    .dataframe tbody tr th {\n",
       "        vertical-align: top;\n",
       "    }\n",
       "\n",
       "    .dataframe thead th {\n",
       "        text-align: right;\n",
       "    }\n",
       "</style>\n",
       "<table border=\"1\" class=\"dataframe\">\n",
       "  <thead>\n",
       "    <tr style=\"text-align: right;\">\n",
       "      <th></th>\n",
       "      <th>Unnamed: 0</th>\n",
       "      <th>Pregnancies</th>\n",
       "      <th>Glucose</th>\n",
       "      <th>BloodPressure</th>\n",
       "      <th>SkinThickness</th>\n",
       "      <th>Insulin</th>\n",
       "      <th>BMI</th>\n",
       "      <th>DiabetesPedigreeFunction</th>\n",
       "      <th>Age</th>\n",
       "      <th>Outcome</th>\n",
       "    </tr>\n",
       "  </thead>\n",
       "  <tbody>\n",
       "    <tr>\n",
       "      <th>count</th>\n",
       "      <td>768.000000</td>\n",
       "      <td>768.000000</td>\n",
       "      <td>768.000000</td>\n",
       "      <td>768.000000</td>\n",
       "      <td>768.000000</td>\n",
       "      <td>768.000000</td>\n",
       "      <td>768.000000</td>\n",
       "      <td>768.000000</td>\n",
       "      <td>768.000000</td>\n",
       "      <td>768.000000</td>\n",
       "    </tr>\n",
       "    <tr>\n",
       "      <th>mean</th>\n",
       "      <td>383.500000</td>\n",
       "      <td>3.845052</td>\n",
       "      <td>120.894531</td>\n",
       "      <td>69.105469</td>\n",
       "      <td>20.536458</td>\n",
       "      <td>79.799479</td>\n",
       "      <td>31.992578</td>\n",
       "      <td>0.471876</td>\n",
       "      <td>33.240885</td>\n",
       "      <td>0.348958</td>\n",
       "    </tr>\n",
       "    <tr>\n",
       "      <th>std</th>\n",
       "      <td>221.846794</td>\n",
       "      <td>3.369578</td>\n",
       "      <td>31.972618</td>\n",
       "      <td>19.355807</td>\n",
       "      <td>15.952218</td>\n",
       "      <td>115.244002</td>\n",
       "      <td>7.884160</td>\n",
       "      <td>0.331329</td>\n",
       "      <td>11.760232</td>\n",
       "      <td>0.476951</td>\n",
       "    </tr>\n",
       "    <tr>\n",
       "      <th>min</th>\n",
       "      <td>0.000000</td>\n",
       "      <td>0.000000</td>\n",
       "      <td>0.000000</td>\n",
       "      <td>0.000000</td>\n",
       "      <td>0.000000</td>\n",
       "      <td>0.000000</td>\n",
       "      <td>0.000000</td>\n",
       "      <td>0.078000</td>\n",
       "      <td>21.000000</td>\n",
       "      <td>0.000000</td>\n",
       "    </tr>\n",
       "    <tr>\n",
       "      <th>25%</th>\n",
       "      <td>191.750000</td>\n",
       "      <td>1.000000</td>\n",
       "      <td>99.000000</td>\n",
       "      <td>62.000000</td>\n",
       "      <td>0.000000</td>\n",
       "      <td>0.000000</td>\n",
       "      <td>27.300000</td>\n",
       "      <td>0.243750</td>\n",
       "      <td>24.000000</td>\n",
       "      <td>0.000000</td>\n",
       "    </tr>\n",
       "    <tr>\n",
       "      <th>50%</th>\n",
       "      <td>383.500000</td>\n",
       "      <td>3.000000</td>\n",
       "      <td>117.000000</td>\n",
       "      <td>72.000000</td>\n",
       "      <td>23.000000</td>\n",
       "      <td>30.500000</td>\n",
       "      <td>32.000000</td>\n",
       "      <td>0.372500</td>\n",
       "      <td>29.000000</td>\n",
       "      <td>0.000000</td>\n",
       "    </tr>\n",
       "    <tr>\n",
       "      <th>75%</th>\n",
       "      <td>575.250000</td>\n",
       "      <td>6.000000</td>\n",
       "      <td>140.250000</td>\n",
       "      <td>80.000000</td>\n",
       "      <td>32.000000</td>\n",
       "      <td>127.250000</td>\n",
       "      <td>36.600000</td>\n",
       "      <td>0.626250</td>\n",
       "      <td>41.000000</td>\n",
       "      <td>1.000000</td>\n",
       "    </tr>\n",
       "    <tr>\n",
       "      <th>max</th>\n",
       "      <td>767.000000</td>\n",
       "      <td>17.000000</td>\n",
       "      <td>199.000000</td>\n",
       "      <td>122.000000</td>\n",
       "      <td>99.000000</td>\n",
       "      <td>846.000000</td>\n",
       "      <td>67.100000</td>\n",
       "      <td>2.420000</td>\n",
       "      <td>81.000000</td>\n",
       "      <td>1.000000</td>\n",
       "    </tr>\n",
       "  </tbody>\n",
       "</table>\n",
       "</div>"
      ],
      "text/plain": [
       "       Unnamed: 0  Pregnancies     Glucose  BloodPressure  SkinThickness  \\\n",
       "count  768.000000   768.000000  768.000000     768.000000     768.000000   \n",
       "mean   383.500000     3.845052  120.894531      69.105469      20.536458   \n",
       "std    221.846794     3.369578   31.972618      19.355807      15.952218   \n",
       "min      0.000000     0.000000    0.000000       0.000000       0.000000   \n",
       "25%    191.750000     1.000000   99.000000      62.000000       0.000000   \n",
       "50%    383.500000     3.000000  117.000000      72.000000      23.000000   \n",
       "75%    575.250000     6.000000  140.250000      80.000000      32.000000   \n",
       "max    767.000000    17.000000  199.000000     122.000000      99.000000   \n",
       "\n",
       "          Insulin         BMI  DiabetesPedigreeFunction         Age  \\\n",
       "count  768.000000  768.000000                768.000000  768.000000   \n",
       "mean    79.799479   31.992578                  0.471876   33.240885   \n",
       "std    115.244002    7.884160                  0.331329   11.760232   \n",
       "min      0.000000    0.000000                  0.078000   21.000000   \n",
       "25%      0.000000   27.300000                  0.243750   24.000000   \n",
       "50%     30.500000   32.000000                  0.372500   29.000000   \n",
       "75%    127.250000   36.600000                  0.626250   41.000000   \n",
       "max    846.000000   67.100000                  2.420000   81.000000   \n",
       "\n",
       "          Outcome  \n",
       "count  768.000000  \n",
       "mean     0.348958  \n",
       "std      0.476951  \n",
       "min      0.000000  \n",
       "25%      0.000000  \n",
       "50%      0.000000  \n",
       "75%      1.000000  \n",
       "max      1.000000  "
      ]
     },
     "execution_count": 97,
     "metadata": {},
     "output_type": "execute_result"
    }
   ],
   "source": [
    "data.describe()"
   ]
  },
  {
   "cell_type": "code",
   "execution_count": 98,
   "id": "36880421",
   "metadata": {},
   "outputs": [
    {
     "data": {
      "text/html": [
       "<div>\n",
       "<style scoped>\n",
       "    .dataframe tbody tr th:only-of-type {\n",
       "        vertical-align: middle;\n",
       "    }\n",
       "\n",
       "    .dataframe tbody tr th {\n",
       "        vertical-align: top;\n",
       "    }\n",
       "\n",
       "    .dataframe thead th {\n",
       "        text-align: right;\n",
       "    }\n",
       "</style>\n",
       "<table border=\"1\" class=\"dataframe\">\n",
       "  <thead>\n",
       "    <tr style=\"text-align: right;\">\n",
       "      <th></th>\n",
       "      <th>Unnamed: 0</th>\n",
       "      <th>Pregnancies</th>\n",
       "      <th>Glucose</th>\n",
       "      <th>BloodPressure</th>\n",
       "      <th>SkinThickness</th>\n",
       "      <th>Insulin</th>\n",
       "      <th>BMI</th>\n",
       "      <th>DiabetesPedigreeFunction</th>\n",
       "      <th>Age</th>\n",
       "      <th>Outcome</th>\n",
       "    </tr>\n",
       "  </thead>\n",
       "  <tbody>\n",
       "    <tr>\n",
       "      <th>Unnamed: 0</th>\n",
       "      <td>1.000000</td>\n",
       "      <td>-0.037201</td>\n",
       "      <td>0.012994</td>\n",
       "      <td>0.020953</td>\n",
       "      <td>0.019006</td>\n",
       "      <td>0.001998</td>\n",
       "      <td>0.012320</td>\n",
       "      <td>-0.040326</td>\n",
       "      <td>0.007714</td>\n",
       "      <td>-0.045184</td>\n",
       "    </tr>\n",
       "    <tr>\n",
       "      <th>Pregnancies</th>\n",
       "      <td>-0.037201</td>\n",
       "      <td>1.000000</td>\n",
       "      <td>0.129459</td>\n",
       "      <td>0.141282</td>\n",
       "      <td>-0.081672</td>\n",
       "      <td>-0.073535</td>\n",
       "      <td>0.017683</td>\n",
       "      <td>-0.033523</td>\n",
       "      <td>0.544341</td>\n",
       "      <td>0.221898</td>\n",
       "    </tr>\n",
       "    <tr>\n",
       "      <th>Glucose</th>\n",
       "      <td>0.012994</td>\n",
       "      <td>0.129459</td>\n",
       "      <td>1.000000</td>\n",
       "      <td>0.152590</td>\n",
       "      <td>0.057328</td>\n",
       "      <td>0.331357</td>\n",
       "      <td>0.221071</td>\n",
       "      <td>0.137337</td>\n",
       "      <td>0.263514</td>\n",
       "      <td>0.466581</td>\n",
       "    </tr>\n",
       "    <tr>\n",
       "      <th>BloodPressure</th>\n",
       "      <td>0.020953</td>\n",
       "      <td>0.141282</td>\n",
       "      <td>0.152590</td>\n",
       "      <td>1.000000</td>\n",
       "      <td>0.207371</td>\n",
       "      <td>0.088933</td>\n",
       "      <td>0.281805</td>\n",
       "      <td>0.041265</td>\n",
       "      <td>0.239528</td>\n",
       "      <td>0.065068</td>\n",
       "    </tr>\n",
       "    <tr>\n",
       "      <th>SkinThickness</th>\n",
       "      <td>0.019006</td>\n",
       "      <td>-0.081672</td>\n",
       "      <td>0.057328</td>\n",
       "      <td>0.207371</td>\n",
       "      <td>1.000000</td>\n",
       "      <td>0.436783</td>\n",
       "      <td>0.392573</td>\n",
       "      <td>0.183928</td>\n",
       "      <td>-0.113970</td>\n",
       "      <td>0.074752</td>\n",
       "    </tr>\n",
       "    <tr>\n",
       "      <th>Insulin</th>\n",
       "      <td>0.001998</td>\n",
       "      <td>-0.073535</td>\n",
       "      <td>0.331357</td>\n",
       "      <td>0.088933</td>\n",
       "      <td>0.436783</td>\n",
       "      <td>1.000000</td>\n",
       "      <td>0.197859</td>\n",
       "      <td>0.185071</td>\n",
       "      <td>-0.042163</td>\n",
       "      <td>0.130548</td>\n",
       "    </tr>\n",
       "    <tr>\n",
       "      <th>BMI</th>\n",
       "      <td>0.012320</td>\n",
       "      <td>0.017683</td>\n",
       "      <td>0.221071</td>\n",
       "      <td>0.281805</td>\n",
       "      <td>0.392573</td>\n",
       "      <td>0.197859</td>\n",
       "      <td>1.000000</td>\n",
       "      <td>0.140647</td>\n",
       "      <td>0.036242</td>\n",
       "      <td>0.292695</td>\n",
       "    </tr>\n",
       "    <tr>\n",
       "      <th>DiabetesPedigreeFunction</th>\n",
       "      <td>-0.040326</td>\n",
       "      <td>-0.033523</td>\n",
       "      <td>0.137337</td>\n",
       "      <td>0.041265</td>\n",
       "      <td>0.183928</td>\n",
       "      <td>0.185071</td>\n",
       "      <td>0.140647</td>\n",
       "      <td>1.000000</td>\n",
       "      <td>0.033561</td>\n",
       "      <td>0.173844</td>\n",
       "    </tr>\n",
       "    <tr>\n",
       "      <th>Age</th>\n",
       "      <td>0.007714</td>\n",
       "      <td>0.544341</td>\n",
       "      <td>0.263514</td>\n",
       "      <td>0.239528</td>\n",
       "      <td>-0.113970</td>\n",
       "      <td>-0.042163</td>\n",
       "      <td>0.036242</td>\n",
       "      <td>0.033561</td>\n",
       "      <td>1.000000</td>\n",
       "      <td>0.238356</td>\n",
       "    </tr>\n",
       "    <tr>\n",
       "      <th>Outcome</th>\n",
       "      <td>-0.045184</td>\n",
       "      <td>0.221898</td>\n",
       "      <td>0.466581</td>\n",
       "      <td>0.065068</td>\n",
       "      <td>0.074752</td>\n",
       "      <td>0.130548</td>\n",
       "      <td>0.292695</td>\n",
       "      <td>0.173844</td>\n",
       "      <td>0.238356</td>\n",
       "      <td>1.000000</td>\n",
       "    </tr>\n",
       "  </tbody>\n",
       "</table>\n",
       "</div>"
      ],
      "text/plain": [
       "                          Unnamed: 0  Pregnancies   Glucose  BloodPressure  \\\n",
       "Unnamed: 0                  1.000000    -0.037201  0.012994       0.020953   \n",
       "Pregnancies                -0.037201     1.000000  0.129459       0.141282   \n",
       "Glucose                     0.012994     0.129459  1.000000       0.152590   \n",
       "BloodPressure               0.020953     0.141282  0.152590       1.000000   \n",
       "SkinThickness               0.019006    -0.081672  0.057328       0.207371   \n",
       "Insulin                     0.001998    -0.073535  0.331357       0.088933   \n",
       "BMI                         0.012320     0.017683  0.221071       0.281805   \n",
       "DiabetesPedigreeFunction   -0.040326    -0.033523  0.137337       0.041265   \n",
       "Age                         0.007714     0.544341  0.263514       0.239528   \n",
       "Outcome                    -0.045184     0.221898  0.466581       0.065068   \n",
       "\n",
       "                          SkinThickness   Insulin       BMI  \\\n",
       "Unnamed: 0                     0.019006  0.001998  0.012320   \n",
       "Pregnancies                   -0.081672 -0.073535  0.017683   \n",
       "Glucose                        0.057328  0.331357  0.221071   \n",
       "BloodPressure                  0.207371  0.088933  0.281805   \n",
       "SkinThickness                  1.000000  0.436783  0.392573   \n",
       "Insulin                        0.436783  1.000000  0.197859   \n",
       "BMI                            0.392573  0.197859  1.000000   \n",
       "DiabetesPedigreeFunction       0.183928  0.185071  0.140647   \n",
       "Age                           -0.113970 -0.042163  0.036242   \n",
       "Outcome                        0.074752  0.130548  0.292695   \n",
       "\n",
       "                          DiabetesPedigreeFunction       Age   Outcome  \n",
       "Unnamed: 0                               -0.040326  0.007714 -0.045184  \n",
       "Pregnancies                              -0.033523  0.544341  0.221898  \n",
       "Glucose                                   0.137337  0.263514  0.466581  \n",
       "BloodPressure                             0.041265  0.239528  0.065068  \n",
       "SkinThickness                             0.183928 -0.113970  0.074752  \n",
       "Insulin                                   0.185071 -0.042163  0.130548  \n",
       "BMI                                       0.140647  0.036242  0.292695  \n",
       "DiabetesPedigreeFunction                  1.000000  0.033561  0.173844  \n",
       "Age                                       0.033561  1.000000  0.238356  \n",
       "Outcome                                   0.173844  0.238356  1.000000  "
      ]
     },
     "execution_count": 98,
     "metadata": {},
     "output_type": "execute_result"
    }
   ],
   "source": [
    "data.corr()"
   ]
  },
  {
   "cell_type": "markdown",
   "id": "4504e2c5",
   "metadata": {},
   "source": [
    "## Now Remove the unnecessary Columns"
   ]
  },
  {
   "cell_type": "code",
   "execution_count": 99,
   "id": "c2248c2c",
   "metadata": {},
   "outputs": [
    {
     "data": {
      "text/html": [
       "<div>\n",
       "<style scoped>\n",
       "    .dataframe tbody tr th:only-of-type {\n",
       "        vertical-align: middle;\n",
       "    }\n",
       "\n",
       "    .dataframe tbody tr th {\n",
       "        vertical-align: top;\n",
       "    }\n",
       "\n",
       "    .dataframe thead th {\n",
       "        text-align: right;\n",
       "    }\n",
       "</style>\n",
       "<table border=\"1\" class=\"dataframe\">\n",
       "  <thead>\n",
       "    <tr style=\"text-align: right;\">\n",
       "      <th></th>\n",
       "      <th>Pregnancies</th>\n",
       "      <th>Insulin</th>\n",
       "      <th>DiabetesPedigreeFunction</th>\n",
       "      <th>Age</th>\n",
       "      <th>Outcome</th>\n",
       "    </tr>\n",
       "  </thead>\n",
       "  <tbody>\n",
       "    <tr>\n",
       "      <th>687</th>\n",
       "      <td>1</td>\n",
       "      <td>0</td>\n",
       "      <td>0.181</td>\n",
       "      <td>29</td>\n",
       "      <td>0</td>\n",
       "    </tr>\n",
       "    <tr>\n",
       "      <th>633</th>\n",
       "      <td>1</td>\n",
       "      <td>183</td>\n",
       "      <td>0.115</td>\n",
       "      <td>22</td>\n",
       "      <td>0</td>\n",
       "    </tr>\n",
       "    <tr>\n",
       "      <th>552</th>\n",
       "      <td>6</td>\n",
       "      <td>0</td>\n",
       "      <td>0.247</td>\n",
       "      <td>66</td>\n",
       "      <td>0</td>\n",
       "    </tr>\n",
       "    <tr>\n",
       "      <th>600</th>\n",
       "      <td>1</td>\n",
       "      <td>0</td>\n",
       "      <td>0.400</td>\n",
       "      <td>24</td>\n",
       "      <td>0</td>\n",
       "    </tr>\n",
       "    <tr>\n",
       "      <th>762</th>\n",
       "      <td>9</td>\n",
       "      <td>0</td>\n",
       "      <td>0.142</td>\n",
       "      <td>33</td>\n",
       "      <td>0</td>\n",
       "    </tr>\n",
       "    <tr>\n",
       "      <th>12</th>\n",
       "      <td>10</td>\n",
       "      <td>0</td>\n",
       "      <td>1.441</td>\n",
       "      <td>57</td>\n",
       "      <td>0</td>\n",
       "    </tr>\n",
       "    <tr>\n",
       "      <th>328</th>\n",
       "      <td>2</td>\n",
       "      <td>120</td>\n",
       "      <td>0.127</td>\n",
       "      <td>23</td>\n",
       "      <td>1</td>\n",
       "    </tr>\n",
       "  </tbody>\n",
       "</table>\n",
       "</div>"
      ],
      "text/plain": [
       "     Pregnancies  Insulin  DiabetesPedigreeFunction  Age  Outcome\n",
       "687            1        0                     0.181   29        0\n",
       "633            1      183                     0.115   22        0\n",
       "552            6        0                     0.247   66        0\n",
       "600            1        0                     0.400   24        0\n",
       "762            9        0                     0.142   33        0\n",
       "12            10        0                     1.441   57        0\n",
       "328            2      120                     0.127   23        1"
      ]
     },
     "execution_count": 99,
     "metadata": {},
     "output_type": "execute_result"
    }
   ],
   "source": [
    "data.drop(['Unnamed: 0','Glucose', 'BloodPressure','BMI','SkinThickness'],axis=1,inplace=True)\n",
    "data.sample(7)"
   ]
  },
  {
   "cell_type": "markdown",
   "id": "7be25f3f",
   "metadata": {},
   "source": [
    "#### Now check the behaviour of the data outliers present or Not"
   ]
  },
  {
   "cell_type": "code",
   "execution_count": 100,
   "id": "947d56c3",
   "metadata": {},
   "outputs": [
    {
     "data": {
      "text/plain": [
       "Pregnancies                 0.117405\n",
       "Insulin                     0.295866\n",
       "DiabetesPedigreeFunction    0.249988\n",
       "Age                         0.147083\n",
       "Outcome                     0.082684\n",
       "dtype: float64"
      ]
     },
     "execution_count": 100,
     "metadata": {},
     "output_type": "execute_result"
    }
   ],
   "source": [
    "data.skew()/len(data)*100"
   ]
  },
  {
   "cell_type": "code",
   "execution_count": 101,
   "id": "0e2125d2",
   "metadata": {},
   "outputs": [],
   "source": [
    "### now we can clearly see that outlier are present in a big amount so before train the model first remove the outliers"
   ]
  },
  {
   "cell_type": "code",
   "execution_count": 102,
   "id": "ac0d02cb",
   "metadata": {},
   "outputs": [
    {
     "name": "stderr",
     "output_type": "stream",
     "text": [
      "C:\\Python310\\lib\\site-packages\\seaborn\\_decorators.py:36: FutureWarning: Pass the following variable as a keyword arg: x. From version 0.12, the only valid positional argument will be `data`, and passing other arguments without an explicit keyword will result in an error or misinterpretation.\n",
      "  warnings.warn(\n",
      "C:\\Python310\\lib\\site-packages\\seaborn\\_decorators.py:36: FutureWarning: Pass the following variable as a keyword arg: x. From version 0.12, the only valid positional argument will be `data`, and passing other arguments without an explicit keyword will result in an error or misinterpretation.\n",
      "  warnings.warn(\n",
      "C:\\Python310\\lib\\site-packages\\seaborn\\_decorators.py:36: FutureWarning: Pass the following variable as a keyword arg: x. From version 0.12, the only valid positional argument will be `data`, and passing other arguments without an explicit keyword will result in an error or misinterpretation.\n",
      "  warnings.warn(\n"
     ]
    },
    {
     "data": {
      "image/png": "[encoded data removed]",
      "text/plain": [
       "<Figure size 1200x300 with 3 Axes>"
      ]
     },
     "metadata": {},
     "output_type": "display_data"
    }
   ],
   "source": [
    "fig,(ax1,ax2,ax3)=plt.subplots(ncols=3, figsize=(12,3))\n",
    "sns.boxplot(data['Pregnancies'], ax=ax1)\n",
    "sns.boxplot(data['Age'], ax=ax2)\n",
    "sns.boxplot(data['DiabetesPedigreeFunction'], ax=ax3)\n",
    "plt.show()"
   ]
  },
  {
   "cell_type": "markdown",
   "id": "7d467d92",
   "metadata": {},
   "source": [
    "### Working to remove Outliers"
   ]
  },
  {
   "cell_type": "code",
   "execution_count": 103,
   "id": "ec38ec25",
   "metadata": {},
   "outputs": [
    {
     "name": "stderr",
     "output_type": "stream",
     "text": [
      "C:\\Python310\\lib\\site-packages\\seaborn\\distributions.py:2619: FutureWarning: `distplot` is a deprecated function and will be removed in a future version. Please adapt your code to use either `displot` (a figure-level function with similar flexibility) or `histplot` (an axes-level function for histograms).\n",
      "  warnings.warn(msg, FutureWarning)\n",
      "C:\\Python310\\lib\\site-packages\\seaborn\\distributions.py:2619: FutureWarning: `distplot` is a deprecated function and will be removed in a future version. Please adapt your code to use either `displot` (a figure-level function with similar flexibility) or `histplot` (an axes-level function for histograms).\n",
      "  warnings.warn(msg, FutureWarning)\n",
      "C:\\Python310\\lib\\site-packages\\seaborn\\distributions.py:2619: FutureWarning: `distplot` is a deprecated function and will be removed in a future version. Please adapt your code to use either `displot` (a figure-level function with similar flexibility) or `histplot` (an axes-level function for histograms).\n",
      "  warnings.warn(msg, FutureWarning)\n"
     ]
    },
    {
     "data": {
      "image/png": "[encoded data removed]",
      "text/plain": [
       "<Figure size 1200x300 with 3 Axes>"
      ]
     },
     "metadata": {},
     "output_type": "display_data"
    }
   ],
   "source": [
    "fig,(ax1,ax2,ax3)=plt.subplots(ncols=3, figsize=(12,3))\n",
    "sns.distplot(data['Pregnancies'], ax=ax1)\n",
    "sns.distplot(data['Age'], ax=ax2)\n",
    "sns.distplot(data['DiabetesPedigreeFunction'], ax=ax3)\n",
    "plt.show()"
   ]
  },
  {
   "cell_type": "code",
   "execution_count": 104,
   "id": "bfcab5db",
   "metadata": {},
   "outputs": [
    {
     "data": {
      "text/plain": [
       "Index(['Pregnancies', 'Insulin', 'DiabetesPedigreeFunction', 'Age', 'Outcome'], dtype='object')"
      ]
     },
     "execution_count": 104,
     "metadata": {},
     "output_type": "execute_result"
    }
   ],
   "source": [
    "#### Now we'll use IQR Method for remove outliers\n",
    "data.columns\n"
   ]
  },
  {
   "cell_type": "code",
   "execution_count": 105,
   "id": "41423ece",
   "metadata": {},
   "outputs": [],
   "source": [
    "percentile25_Pregnancies=data['Pregnancies'].quantile(0.25)\n",
    "percentile75_Pregnancies=data['Pregnancies'].quantile(0.75)\n",
    "\n",
    "percentile25_Insulin=data['Insulin'].quantile(0.25)\n",
    "percentile75_Insulin=data['Insulin'].quantile(0.75)\n",
    "\n",
    "percentile25_DiabetesPedigreeFunction=data['DiabetesPedigreeFunction'].quantile(0.25)\n",
    "percentile75_DiabetesPedigreeFunction=data['DiabetesPedigreeFunction'].quantile(0.75)\n",
    "\n",
    "percentile25_Age=data['Age'].quantile(0.25)\n",
    "percentile75_Age=data['Age'].quantile(0.75)"
   ]
  },
  {
   "cell_type": "code",
   "execution_count": 106,
   "id": "be17ebca",
   "metadata": {},
   "outputs": [],
   "source": [
    "iqr_Pregnancies=percentile75_Pregnancies - percentile25_Pregnancies\n",
    "iqr_Insulin=percentile75_Insulin - percentile25_Insulin\n",
    "iqr_DiabetesPedigreeFunction=percentile75_DiabetesPedigreeFunction - percentile25_DiabetesPedigreeFunction\n",
    "iqr_Age = percentile75_Age - percentile25_Age"
   ]
  },
  {
   "cell_type": "code",
   "execution_count": 107,
   "id": "ad2efec8",
   "metadata": {},
   "outputs": [],
   "source": [
    "upper_limit_Pregnancies = percentile75_Pregnancies + 1.5 * iqr_Pregnancies\n",
    "lower_limit_Pregnancies = percentile25_Pregnancies - 1.5 * iqr_Pregnancies\n",
    "\n",
    "upper_limit_Insulin = percentile75_Insulin + 1.5 * iqr_Insulin\n",
    "lower_limit_Insulin = percentile25_Insulin - 1.5 * iqr_Insulin\n",
    "\n",
    "upper_limit_DiabetesPedigreeFunction = percentile75_DiabetesPedigreeFunction + 1.5 * iqr_DiabetesPedigreeFunction\n",
    "lower_limit_DiabetesPedigreeFunction = percentile25_DiabetesPedigreeFunction - 1.5 * iqr_DiabetesPedigreeFunction\n",
    "\n",
    "upper_limit_Age = percentile75_Age + 1.5 * iqr_Age\n",
    "lower_limit_Age = percentile25_Age - 1.5 * iqr_Age"
   ]
  },
  {
   "cell_type": "code",
   "execution_count": 108,
   "id": "7513eddb",
   "metadata": {},
   "outputs": [
    {
     "name": "stdout",
     "output_type": "stream",
     "text": [
      "Upper limit_Pregnancies 13.5\n",
      "Lower limit_Pregnancies -6.5\n",
      "Upper limit_Insulin 318.125\n",
      "Lower limit_Insulin -190.875\n",
      "Upper limit_DiabetesPedigreeFunction 1.2\n",
      "Lower limit_DiabetesPedigreeFunction -0.32999999999999996\n",
      "Upper limit_Age 66.5\n",
      "Lower limit_Age -1.5\n"
     ]
    }
   ],
   "source": [
    "print(\"Upper limit_Pregnancies\",upper_limit_Pregnancies)\n",
    "print(\"Lower limit_Pregnancies\",lower_limit_Pregnancies)\n",
    "\n",
    "print(\"Upper limit_Insulin\",upper_limit_Insulin)\n",
    "print(\"Lower limit_Insulin\",lower_limit_Insulin)\n",
    "\n",
    "print(\"Upper limit_DiabetesPedigreeFunction\",upper_limit_DiabetesPedigreeFunction)\n",
    "print(\"Lower limit_DiabetesPedigreeFunction\",lower_limit_DiabetesPedigreeFunction)\n",
    "\n",
    "print(\"Upper limit_Age\",upper_limit_Age)\n",
    "print(\"Lower limit_Age\",lower_limit_Age)"
   ]
  },
  {
   "cell_type": "code",
   "execution_count": 109,
   "id": "db1a534f",
   "metadata": {},
   "outputs": [],
   "source": [
    "## Now apply the Limit_value One by one and save in data Frame"
   ]
  },
  {
   "cell_type": "code",
   "execution_count": 110,
   "id": "2d6d1e2f",
   "metadata": {},
   "outputs": [],
   "source": [
    "new_data=data[data['Pregnancies'] < upper_limit_Pregnancies]\n",
    "new_data=new_data[new_data['Pregnancies'] > lower_limit_Pregnancies]"
   ]
  },
  {
   "cell_type": "code",
   "execution_count": 111,
   "id": "5a5f2dfd",
   "metadata": {},
   "outputs": [],
   "source": [
    "new_data1=new_data[new_data['Insulin'] < upper_limit_Insulin]\n",
    "new_data1=new_data1[new_data1['Insulin'] > lower_limit_Insulin]"
   ]
  },
  {
   "cell_type": "code",
   "execution_count": 112,
   "id": "d298854a",
   "metadata": {},
   "outputs": [],
   "source": [
    "new_data2=new_data[new_data['DiabetesPedigreeFunction'] < upper_limit_DiabetesPedigreeFunction]\n",
    "new_data2=new_data2[new_data2['DiabetesPedigreeFunction'] > lower_limit_DiabetesPedigreeFunction]"
   ]
  },
  {
   "cell_type": "code",
   "execution_count": 113,
   "id": "4562e591",
   "metadata": {},
   "outputs": [],
   "source": [
    "new_data3=new_data2[new_data2['Age'] < upper_limit_Age]\n",
    "new_data3=new_data3[new_data3['Age'] > lower_limit_Age]"
   ]
  },
  {
   "cell_type": "code",
   "execution_count": 114,
   "id": "934bdf77",
   "metadata": {},
   "outputs": [
    {
     "data": {
      "text/plain": [
       "Index(['Pregnancies', 'Insulin', 'DiabetesPedigreeFunction', 'Age', 'Outcome'], dtype='object')"
      ]
     },
     "execution_count": 114,
     "metadata": {},
     "output_type": "execute_result"
    }
   ],
   "source": [
    "new_data3.columns"
   ]
  },
  {
   "cell_type": "code",
   "execution_count": 115,
   "id": "bc4ae7d5",
   "metadata": {},
   "outputs": [
    {
     "data": {
      "text/plain": [
       "Index(['Pregnancies', 'Insulin', 'DiabetesPedigreeFunction', 'Age', 'Outcome'], dtype='object')"
      ]
     },
     "execution_count": 115,
     "metadata": {},
     "output_type": "execute_result"
    }
   ],
   "source": [
    "data.columns"
   ]
  },
  {
   "cell_type": "code",
   "execution_count": 116,
   "id": "394256a9",
   "metadata": {},
   "outputs": [],
   "source": [
    "## Now Visiulize the outlier Before and After"
   ]
  },
  {
   "cell_type": "code",
   "execution_count": 117,
   "id": "daf6910a",
   "metadata": {},
   "outputs": [
    {
     "name": "stderr",
     "output_type": "stream",
     "text": [
      "C:\\Python310\\lib\\site-packages\\seaborn\\_decorators.py:36: FutureWarning: Pass the following variable as a keyword arg: x. From version 0.12, the only valid positional argument will be `data`, and passing other arguments without an explicit keyword will result in an error or misinterpretation.\n",
      "  warnings.warn(\n",
      "C:\\Python310\\lib\\site-packages\\seaborn\\_decorators.py:36: FutureWarning: Pass the following variable as a keyword arg: x. From version 0.12, the only valid positional argument will be `data`, and passing other arguments without an explicit keyword will result in an error or misinterpretation.\n",
      "  warnings.warn(\n",
      "C:\\Python310\\lib\\site-packages\\seaborn\\_decorators.py:36: FutureWarning: Pass the following variable as a keyword arg: x. From version 0.12, the only valid positional argument will be `data`, and passing other arguments without an explicit keyword will result in an error or misinterpretation.\n",
      "  warnings.warn(\n",
      "C:\\Python310\\lib\\site-packages\\seaborn\\_decorators.py:36: FutureWarning: Pass the following variable as a keyword arg: x. From version 0.12, the only valid positional argument will be `data`, and passing other arguments without an explicit keyword will result in an error or misinterpretation.\n",
      "  warnings.warn(\n"
     ]
    },
    {
     "data": {
      "text/plain": [
       "<AxesSubplot:xlabel='Age'>"
      ]
     },
     "execution_count": 117,
     "metadata": {},
     "output_type": "execute_result"
    },
    {
     "data": {
      "image/png": "[encoded data removed]",
      "text/plain": [
       "<Figure size 1200x200 with 3 Axes>"
      ]
     },
     "metadata": {},
     "output_type": "display_data"
    }
   ],
   "source": [
    "fig,(ax1,ax3,ax4)=plt.subplots(ncols=3 ,figsize=(12,2))\n",
    "\n",
    "ax1.set_title(\"Before Remove the outliers\")\n",
    "sns.boxplot(data['Pregnancies'],ax=ax1)\n",
    "sns.boxplot(data['Insulin'],ax=ax2)\n",
    "sns.boxplot(data['DiabetesPedigreeFunction'],ax=ax3)\n",
    "sns.boxplot(data['Age'],ax=ax4)\n",
    "\n"
   ]
  },
  {
   "cell_type": "code",
   "execution_count": 118,
   "id": "5552892a",
   "metadata": {},
   "outputs": [
    {
     "name": "stderr",
     "output_type": "stream",
     "text": [
      "C:\\Python310\\lib\\site-packages\\seaborn\\_decorators.py:36: FutureWarning: Pass the following variable as a keyword arg: x. From version 0.12, the only valid positional argument will be `data`, and passing other arguments without an explicit keyword will result in an error or misinterpretation.\n",
      "  warnings.warn(\n",
      "C:\\Python310\\lib\\site-packages\\seaborn\\_decorators.py:36: FutureWarning: Pass the following variable as a keyword arg: x. From version 0.12, the only valid positional argument will be `data`, and passing other arguments without an explicit keyword will result in an error or misinterpretation.\n",
      "  warnings.warn(\n",
      "C:\\Python310\\lib\\site-packages\\seaborn\\_decorators.py:36: FutureWarning: Pass the following variable as a keyword arg: x. From version 0.12, the only valid positional argument will be `data`, and passing other arguments without an explicit keyword will result in an error or misinterpretation.\n",
      "  warnings.warn(\n",
      "C:\\Python310\\lib\\site-packages\\seaborn\\_decorators.py:36: FutureWarning: Pass the following variable as a keyword arg: x. From version 0.12, the only valid positional argument will be `data`, and passing other arguments without an explicit keyword will result in an error or misinterpretation.\n",
      "  warnings.warn(\n"
     ]
    },
    {
     "data": {
      "text/plain": [
       "<AxesSubplot:xlabel='Age'>"
      ]
     },
     "execution_count": 118,
     "metadata": {},
     "output_type": "execute_result"
    },
    {
     "data": {
      "image/png": "[encoded data removed]",
      "text/plain": [
       "<Figure size 1200x200 with 4 Axes>"
      ]
     },
     "metadata": {},
     "output_type": "display_data"
    }
   ],
   "source": [
    "fig,(ax5,ax6,ax7,ax8)=plt.subplots(ncols=4 ,figsize=(12,2))\n",
    "ax5.set_title(\"After Remove the outliers\")\n",
    "\n",
    "sns.boxplot(new_data3['Pregnancies'],ax=ax5)\n",
    "sns.boxplot(new_data3['Insulin'],ax=ax6)\n",
    "sns.boxplot(new_data3['DiabetesPedigreeFunction'],ax=ax7)\n",
    "sns.boxplot(new_data3['Age'],ax=ax8)"
   ]
  },
  {
   "cell_type": "code",
   "execution_count": 119,
   "id": "e7edaf2d",
   "metadata": {},
   "outputs": [],
   "source": [
    "## Again Working on Outliers"
   ]
  },
  {
   "cell_type": "code",
   "execution_count": 120,
   "id": "f82f537a",
   "metadata": {},
   "outputs": [
    {
     "data": {
      "text/plain": [
       "Index(['Pregnancies', 'Insulin', 'DiabetesPedigreeFunction', 'Age', 'Outcome'], dtype='object')"
      ]
     },
     "execution_count": 120,
     "metadata": {},
     "output_type": "execute_result"
    }
   ],
   "source": [
    "data.columns"
   ]
  },
  {
   "cell_type": "code",
   "execution_count": 121,
   "id": "76eeaeb9",
   "metadata": {},
   "outputs": [
    {
     "name": "stdout",
     "output_type": "stream",
     "text": [
      "Highest allowed 418.9304026308362\n",
      "Lowest allowed -260.8091905096241\n",
      "Highest allowed 1.1785978259621768\n",
      "Lowest allowed -0.3210055394607995\n",
      "Highest allowed 66.08001121913573\n",
      "Lowest allowed -0.6585236158299352\n"
     ]
    }
   ],
   "source": [
    "# Finding the boundary values\n",
    "print(\"Highest allowed\",new_data3['Insulin'].mean() + 3*new_data3['Insulin'].std())\n",
    "print(\"Lowest allowed\",new_data3['Insulin'].mean() - 3*new_data3['Insulin'].std())\n",
    "\n",
    "print(\"Highest allowed\",new_data3['DiabetesPedigreeFunction'].mean() + 3*new_data3['DiabetesPedigreeFunction'].std())\n",
    "print(\"Lowest allowed\",new_data3['DiabetesPedigreeFunction'].mean() - 3*new_data3['DiabetesPedigreeFunction'].std())\n",
    "\n",
    "print(\"Highest allowed\",new_data3['Age'].mean() + 3*new_data3['Age'].std())\n",
    "print(\"Lowest allowed\",new_data3['Age'].mean() - 3*new_data3['Age'].std())"
   ]
  },
  {
   "cell_type": "code",
   "execution_count": 122,
   "id": "95f078a7",
   "metadata": {},
   "outputs": [],
   "source": [
    "new_data4 = new_data3[(new_data3['Insulin'] < 298.4853910202818) & (new_data3['Insulin'] > -174.36435355630485)]\n",
    "new_data5 = new_data3[(new_data3['DiabetesPedigreeFunction'] < 1.176417884149868) & (new_data3['DiabetesPedigreeFunction'] > -0.3231354634005887)]\n",
    "new_data6 = new_data5[(new_data5['Age'] < 65.68467275365333) & (new_data5['Age'] > -0.4598888919818691)]\n"
   ]
  },
  {
   "cell_type": "code",
   "execution_count": 123,
   "id": "90feadb6",
   "metadata": {},
   "outputs": [
    {
     "name": "stderr",
     "output_type": "stream",
     "text": [
      "C:\\Python310\\lib\\site-packages\\seaborn\\_decorators.py:36: FutureWarning: Pass the following variable as a keyword arg: x. From version 0.12, the only valid positional argument will be `data`, and passing other arguments without an explicit keyword will result in an error or misinterpretation.\n",
      "  warnings.warn(\n",
      "C:\\Python310\\lib\\site-packages\\seaborn\\_decorators.py:36: FutureWarning: Pass the following variable as a keyword arg: x. From version 0.12, the only valid positional argument will be `data`, and passing other arguments without an explicit keyword will result in an error or misinterpretation.\n",
      "  warnings.warn(\n",
      "C:\\Python310\\lib\\site-packages\\seaborn\\_decorators.py:36: FutureWarning: Pass the following variable as a keyword arg: x. From version 0.12, the only valid positional argument will be `data`, and passing other arguments without an explicit keyword will result in an error or misinterpretation.\n",
      "  warnings.warn(\n"
     ]
    },
    {
     "data": {
      "text/plain": [
       "<AxesSubplot:xlabel='Age'>"
      ]
     },
     "execution_count": 123,
     "metadata": {},
     "output_type": "execute_result"
    },
    {
     "data": {
      "image/png": "[encoded data removed]",
      "text/plain": [
       "<Figure size 1200x200 with 3 Axes>"
      ]
     },
     "metadata": {},
     "output_type": "display_data"
    }
   ],
   "source": [
    "fig,(ax7,ax6,ax8)=plt.subplots(ncols=3 ,figsize=(12,2))\n",
    "ax5.set_title(\"After Remove the outliers\")\n",
    "\n",
    "sns.boxplot(new_data6['Insulin'],ax=ax6)\n",
    "sns.boxplot(new_data6['DiabetesPedigreeFunction'],ax=ax7)\n",
    "sns.boxplot(new_data6['Age'],ax=ax8)"
   ]
  },
  {
   "cell_type": "code",
   "execution_count": 124,
   "id": "87f39f0c",
   "metadata": {},
   "outputs": [],
   "source": [
    "new_data_cap = new_data6.copy()\n",
    "\n",
    "new_data_cap['Insulin'] = np.where(\n",
    "    new_data_cap['Insulin'] > upper_limit_Insulin,\n",
    "    upper_limit_Insulin,\n",
    "    np.where(\n",
    "        new_data_cap['Insulin'] < lower_limit_Insulin,\n",
    "        lower_limit_Insulin,\n",
    "        new_data_cap['Insulin']\n",
    "    )\n",
    ")\n",
    "new_data_cap['DiabetesPedigreeFunction'] = np.where(\n",
    "    new_data_cap['DiabetesPedigreeFunction'] > upper_limit_DiabetesPedigreeFunction,\n",
    "    upper_limit_DiabetesPedigreeFunction,\n",
    "    np.where(\n",
    "        new_data_cap['DiabetesPedigreeFunction'] < lower_limit_DiabetesPedigreeFunction,\n",
    "        lower_limit_DiabetesPedigreeFunction,\n",
    "        new_data_cap['DiabetesPedigreeFunction']\n",
    "    )\n",
    ")\n",
    "new_data_cap['Age'] = np.where(\n",
    "    new_data_cap['Age'] > upper_limit_Age,\n",
    "    upper_limit_Age,\n",
    "    np.where(\n",
    "        new_data_cap['Age'] < lower_limit_Age,\n",
    "        lower_limit_Age,\n",
    "        new_data_cap['Age']\n",
    "    )\n",
    ")"
   ]
  },
  {
   "cell_type": "code",
   "execution_count": 125,
   "id": "9feb66e3",
   "metadata": {},
   "outputs": [
    {
     "name": "stderr",
     "output_type": "stream",
     "text": [
      "C:\\Python310\\lib\\site-packages\\seaborn\\_decorators.py:36: FutureWarning: Pass the following variable as a keyword arg: x. From version 0.12, the only valid positional argument will be `data`, and passing other arguments without an explicit keyword will result in an error or misinterpretation.\n",
      "  warnings.warn(\n",
      "C:\\Python310\\lib\\site-packages\\seaborn\\_decorators.py:36: FutureWarning: Pass the following variable as a keyword arg: x. From version 0.12, the only valid positional argument will be `data`, and passing other arguments without an explicit keyword will result in an error or misinterpretation.\n",
      "  warnings.warn(\n",
      "C:\\Python310\\lib\\site-packages\\seaborn\\_decorators.py:36: FutureWarning: Pass the following variable as a keyword arg: x. From version 0.12, the only valid positional argument will be `data`, and passing other arguments without an explicit keyword will result in an error or misinterpretation.\n",
      "  warnings.warn(\n"
     ]
    },
    {
     "data": {
      "text/plain": [
       "<AxesSubplot:xlabel='Age'>"
      ]
     },
     "execution_count": 125,
     "metadata": {},
     "output_type": "execute_result"
    },
    {
     "data": {
      "image/png": "[encoded data removed]",
      "text/plain": [
       "<Figure size 1200x200 with 3 Axes>"
      ]
     },
     "metadata": {},
     "output_type": "display_data"
    }
   ],
   "source": [
    "fig,(ax7,ax6,ax8)=plt.subplots(ncols=3 ,figsize=(12,2))\n",
    "ax5.set_title(\"After Remove the outliers\")\n",
    "\n",
    "sns.boxplot(new_data_cap['Insulin'],ax=ax6)\n",
    "sns.boxplot(new_data_cap['DiabetesPedigreeFunction'],ax=ax7)\n",
    "sns.boxplot(new_data_cap['Age'],ax=ax8)"
   ]
  },
  {
   "cell_type": "markdown",
   "id": "8b2dcc0a",
   "metadata": {},
   "source": [
    "## Now standardization the Data"
   ]
  },
  {
   "cell_type": "code",
   "execution_count": 126,
   "id": "288f72f9",
   "metadata": {},
   "outputs": [
    {
     "name": "stdout",
     "output_type": "stream",
     "text": [
      "X Shape (719, 4)\n",
      "Y Shape (719,)\n"
     ]
    }
   ],
   "source": [
    "X=new_data6.drop('Outcome',axis=1)\n",
    "y=new_data6['Outcome']\n",
    "print('X Shape',X.shape)\n",
    "print('Y Shape',y.shape)"
   ]
  },
  {
   "cell_type": "code",
   "execution_count": 127,
   "id": "19e34fe4",
   "metadata": {},
   "outputs": [
    {
     "name": "stdout",
     "output_type": "stream",
     "text": [
      "X_train (503, 4)\n",
      "X_test (216, 4)\n",
      "y_train (503,)\n",
      "y_test (216,)\n"
     ]
    }
   ],
   "source": [
    "x_train,x_test,y_train,y_test=train_test_split(X,y,test_size=0.3,random_state=0)\n",
    "print('X_train',x_train.shape)\n",
    "print('X_test',x_test.shape)\n",
    "print('y_train',y_train.shape)\n",
    "print('y_test',y_test.shape)"
   ]
  },
  {
   "cell_type": "code",
   "execution_count": 128,
   "id": "23540bc3",
   "metadata": {},
   "outputs": [],
   "source": [
    "sc=StandardScaler()\n",
    "\n",
    "sc.fit(x_train)\n",
    "\n",
    "x_train_sc=sc.transform(x_train)\n",
    "x_test_sc=sc.transform(x_test)"
   ]
  },
  {
   "cell_type": "code",
   "execution_count": 129,
   "id": "8685d561",
   "metadata": {},
   "outputs": [],
   "source": [
    "x_train_sc=pd.DataFrame(x_train_sc, columns=x_train.columns)\n",
    "x_test_sc=pd.DataFrame(x_test_sc, columns=x_test.columns)"
   ]
  },
  {
   "cell_type": "markdown",
   "id": "1c80a7b4",
   "metadata": {},
   "source": [
    "## Effect of Standardrization"
   ]
  },
  {
   "cell_type": "code",
   "execution_count": 130,
   "id": "9514a6a8",
   "metadata": {},
   "outputs": [
    {
     "data": {
      "image/png": "[encoded data removed]",
      "text/plain": [
       "<Figure size 1200x400 with 2 Axes>"
      ]
     },
     "metadata": {},
     "output_type": "display_data"
    }
   ],
   "source": [
    "fig,(ax1,ax2)=plt.subplots(ncols=2,figsize=(12,4))\n",
    "\n",
    "ax1.set_title(\"Before Standardization\")\n",
    "sns.kdeplot(data=new_data3,ax=ax1)\n",
    "\n",
    "ax2.set_title(\"After Standardization\")\n",
    "sns.kdeplot(data=x_train_sc,ax=ax2)\n",
    "plt.show()"
   ]
  },
  {
   "cell_type": "markdown",
   "id": "ccedfe18",
   "metadata": {},
   "source": [
    "## Now working on train the Model for prediction"
   ]
  },
  {
   "cell_type": "code",
   "execution_count": 131,
   "id": "22e807cd",
   "metadata": {
    "scrolled": true
   },
   "outputs": [
    {
     "data": {
      "text/plain": [
       "array([0.52154424, 0.37508681, 0.48768865, 0.34110109, 0.18329222,\n",
       "       0.20146287, 0.2038918 , 0.76469394, 0.55305361, 0.41572801,\n",
       "       0.91525526, 0.30025034, 0.23701356, 0.29448032, 0.70628342,\n",
       "       0.3996252 , 0.3829162 , 0.17015589, 0.3410101 , 0.28401738,\n",
       "       0.22570975, 0.30289725, 0.48204941, 0.52267368, 0.3023895 ,\n",
       "       0.3397218 , 0.34191222, 0.14196139, 0.13751751, 0.2202147 ,\n",
       "       0.3030478 , 0.92456551, 0.42787507, 0.44410254, 0.4004211 ,\n",
       "       0.68195985, 0.22880658, 0.28234168, 0.33231498, 0.36095819,\n",
       "       0.29473668, 0.37504051, 0.38447148, 0.29618913, 0.18232253,\n",
       "       0.36626534, 0.55218934, 0.38660598, 0.1389916 , 0.17478744,\n",
       "       0.72858197, 0.68713764, 0.40241048, 0.30742251, 0.28246845,\n",
       "       0.08925851, 0.39553369, 0.4533447 , 0.36675078, 0.33567748,\n",
       "       0.18285264, 0.28295744, 0.18438896, 0.52018009, 0.1704729 ,\n",
       "       0.39293875, 0.78724428, 0.30952941, 0.33726104, 0.11717882,\n",
       "       0.2125924 , 0.28840712, 0.3823708 , 0.56173607, 0.28303317,\n",
       "       0.11164772, 0.39213086, 0.69158877, 0.30318419, 0.42569919,\n",
       "       0.28965787, 0.20577817, 0.50713865, 0.22142985, 0.4203043 ,\n",
       "       0.31339048, 0.53485412, 0.44774106, 0.2416305 , 0.27089573,\n",
       "       0.49616868, 0.4588598 , 0.22598824, 0.24020965, 0.19811052,\n",
       "       0.30505029, 0.22610913, 0.6062334 , 0.3786389 , 0.33028186,\n",
       "       0.33426764, 0.42876824, 0.37966731, 0.57167035, 0.32957632,\n",
       "       0.74854291, 0.39145008, 0.44074809, 0.15433013, 0.27463547,\n",
       "       0.22718411, 0.1717157 , 0.2808013 , 0.17330534, 0.24412063,\n",
       "       0.46635181, 0.44862553, 0.26993448, 0.46376756, 0.09391359,\n",
       "       0.24201342, 0.47242475, 0.10216448, 0.53174683, 0.24980823,\n",
       "       0.62566225, 0.15774315, 0.26042832, 0.16023688, 0.18378635,\n",
       "       0.36899114, 0.16962194, 0.17536801, 0.27811018, 0.49274211,\n",
       "       0.18737261, 0.09874187, 0.2714677 , 0.09819332, 0.60106712,\n",
       "       0.35656908, 0.36935227, 0.50374649, 0.5279088 , 0.61797177,\n",
       "       0.13274155, 0.34051119, 0.63472634, 0.45827758, 0.62286745,\n",
       "       0.24323825, 0.32224121, 0.35158589, 0.17334339, 0.33454063,\n",
       "       0.08778443, 0.23113956, 0.60458018, 0.57841284, 0.23453409,\n",
       "       0.28906477, 0.05334624, 0.08914399, 0.45741076, 0.19865706,\n",
       "       0.2451146 , 0.3531068 , 0.67740239, 0.82991044, 0.36050711,\n",
       "       0.28769461, 0.3905277 , 0.61864719, 0.5471277 , 0.27232863,\n",
       "       0.19200076, 0.35163277, 0.50357519, 0.39372498, 0.27174569,\n",
       "       0.30285142, 0.47800404, 0.20801155, 0.33391014, 0.40268651,\n",
       "       0.50695401, 0.41068111, 0.31329845, 0.31974572, 0.29571005,\n",
       "       0.49639628, 0.3712614 , 0.38466176, 0.38508037, 0.39541163,\n",
       "       0.31576509, 0.39424066, 0.40870826, 0.38435367, 0.23211925,\n",
       "       0.20381917, 0.1496552 , 0.41633238, 0.50931933, 0.14972431,\n",
       "       0.48169127, 0.11698667, 0.44386027, 0.5021247 , 0.24118199,\n",
       "       0.20407158, 0.61482569, 0.30805114, 0.1938442 , 0.39674952,\n",
       "       0.28671103])"
      ]
     },
     "execution_count": 131,
     "metadata": {},
     "output_type": "execute_result"
    }
   ],
   "source": [
    "lr=LinearRegression()\n",
    "\n",
    "lr.fit(x_train,y_train)\n",
    "\n",
    "y_pred=lr.predict(x_test)\n",
    "y_pred"
   ]
  },
  {
   "cell_type": "code",
   "execution_count": 132,
   "id": "bec514ef",
   "metadata": {},
   "outputs": [
    {
     "name": "stdout",
     "output_type": "stream",
     "text": [
      "Mean Absolute Error (MAE) 0.39428989432761524\n",
      "Mean Squared Error (MSE) 0.19211279579269563\n",
      "R2 score 0.12936235060670154\n"
     ]
    }
   ],
   "source": [
    "print(\"Mean Absolute Error (MAE)\",mean_absolute_error(y_test,y_pred))\n",
    "print(\"Mean Squared Error (MSE)\",mean_squared_error(y_test,y_pred))\n",
    "print(\"R2 score\",r2_score(y_test,y_pred))"
   ]
  },
  {
   "cell_type": "markdown",
   "id": "772c5773",
   "metadata": {},
   "source": [
    "## Comparing Actual Dataset Vs Prediction Dataset"
   ]
  },
  {
   "cell_type": "code",
   "execution_count": 133,
   "id": "2b09ace7",
   "metadata": {},
   "outputs": [
    {
     "data": {
      "text/html": [
       "<div>\n",
       "<style scoped>\n",
       "    .dataframe tbody tr th:only-of-type {\n",
       "        vertical-align: middle;\n",
       "    }\n",
       "\n",
       "    .dataframe tbody tr th {\n",
       "        vertical-align: top;\n",
       "    }\n",
       "\n",
       "    .dataframe thead th {\n",
       "        text-align: right;\n",
       "    }\n",
       "</style>\n",
       "<table border=\"1\" class=\"dataframe\">\n",
       "  <thead>\n",
       "    <tr style=\"text-align: right;\">\n",
       "      <th></th>\n",
       "      <th>Actual</th>\n",
       "      <th>Prediction</th>\n",
       "    </tr>\n",
       "  </thead>\n",
       "  <tbody>\n",
       "    <tr>\n",
       "      <th>246</th>\n",
       "      <td>0</td>\n",
       "      <td>0.4</td>\n",
       "    </tr>\n",
       "    <tr>\n",
       "      <th>367</th>\n",
       "      <td>0</td>\n",
       "      <td>0.1</td>\n",
       "    </tr>\n",
       "    <tr>\n",
       "      <th>37</th>\n",
       "      <td>1</td>\n",
       "      <td>0.5</td>\n",
       "    </tr>\n",
       "    <tr>\n",
       "      <th>493</th>\n",
       "      <td>1</td>\n",
       "      <td>0.7</td>\n",
       "    </tr>\n",
       "    <tr>\n",
       "      <th>479</th>\n",
       "      <td>0</td>\n",
       "      <td>0.6</td>\n",
       "    </tr>\n",
       "    <tr>\n",
       "      <th>324</th>\n",
       "      <td>0</td>\n",
       "      <td>0.1</td>\n",
       "    </tr>\n",
       "    <tr>\n",
       "      <th>484</th>\n",
       "      <td>1</td>\n",
       "      <td>0.3</td>\n",
       "    </tr>\n",
       "    <tr>\n",
       "      <th>760</th>\n",
       "      <td>0</td>\n",
       "      <td>0.3</td>\n",
       "    </tr>\n",
       "    <tr>\n",
       "      <th>60</th>\n",
       "      <td>0</td>\n",
       "      <td>0.1</td>\n",
       "    </tr>\n",
       "    <tr>\n",
       "      <th>332</th>\n",
       "      <td>1</td>\n",
       "      <td>0.3</td>\n",
       "    </tr>\n",
       "  </tbody>\n",
       "</table>\n",
       "</div>"
      ],
      "text/plain": [
       "     Actual  Prediction\n",
       "246       0         0.4\n",
       "367       0         0.1\n",
       "37        1         0.5\n",
       "493       1         0.7\n",
       "479       0         0.6\n",
       "324       0         0.1\n",
       "484       1         0.3\n",
       "760       0         0.3\n",
       "60        0         0.1\n",
       "332       1         0.3"
      ]
     },
     "execution_count": 133,
     "metadata": {},
     "output_type": "execute_result"
    }
   ],
   "source": [
    "comparing_ds=pd.DataFrame({\"Actual\":y_test,\"Prediction\":y_pred})\n",
    "comparing_ds.sample(10).round(1)"
   ]
  },
  {
   "cell_type": "code",
   "execution_count": 134,
   "id": "f4465c7e",
   "metadata": {},
   "outputs": [
    {
     "data": {
      "text/html": [
       "<div>\n",
       "<style scoped>\n",
       "    .dataframe tbody tr th:only-of-type {\n",
       "        vertical-align: middle;\n",
       "    }\n",
       "\n",
       "    .dataframe tbody tr th {\n",
       "        vertical-align: top;\n",
       "    }\n",
       "\n",
       "    .dataframe thead th {\n",
       "        text-align: right;\n",
       "    }\n",
       "</style>\n",
       "<table border=\"1\" class=\"dataframe\">\n",
       "  <thead>\n",
       "    <tr style=\"text-align: right;\">\n",
       "      <th></th>\n",
       "      <th>Actual</th>\n",
       "      <th>Prediction</th>\n",
       "    </tr>\n",
       "  </thead>\n",
       "  <tbody>\n",
       "    <tr>\n",
       "      <th>count</th>\n",
       "      <td>216.0</td>\n",
       "      <td>216.0</td>\n",
       "    </tr>\n",
       "    <tr>\n",
       "      <th>mean</th>\n",
       "      <td>0.3</td>\n",
       "      <td>0.4</td>\n",
       "    </tr>\n",
       "    <tr>\n",
       "      <th>std</th>\n",
       "      <td>0.5</td>\n",
       "      <td>0.2</td>\n",
       "    </tr>\n",
       "    <tr>\n",
       "      <th>min</th>\n",
       "      <td>0.0</td>\n",
       "      <td>0.1</td>\n",
       "    </tr>\n",
       "    <tr>\n",
       "      <th>25%</th>\n",
       "      <td>0.0</td>\n",
       "      <td>0.2</td>\n",
       "    </tr>\n",
       "    <tr>\n",
       "      <th>50%</th>\n",
       "      <td>0.0</td>\n",
       "      <td>0.3</td>\n",
       "    </tr>\n",
       "    <tr>\n",
       "      <th>75%</th>\n",
       "      <td>1.0</td>\n",
       "      <td>0.4</td>\n",
       "    </tr>\n",
       "    <tr>\n",
       "      <th>max</th>\n",
       "      <td>1.0</td>\n",
       "      <td>0.9</td>\n",
       "    </tr>\n",
       "  </tbody>\n",
       "</table>\n",
       "</div>"
      ],
      "text/plain": [
       "       Actual  Prediction\n",
       "count   216.0       216.0\n",
       "mean      0.3         0.4\n",
       "std       0.5         0.2\n",
       "min       0.0         0.1\n",
       "25%       0.0         0.2\n",
       "50%       0.0         0.3\n",
       "75%       1.0         0.4\n",
       "max       1.0         0.9"
      ]
     },
     "execution_count": 134,
     "metadata": {},
     "output_type": "execute_result"
    }
   ],
   "source": [
    "comparing_ds.describe().round(1)"
   ]
  },
  {
   "cell_type": "code",
   "execution_count": 135,
   "id": "48037373",
   "metadata": {},
   "outputs": [
    {
     "data": {
      "image/png": "[encoded data removed]",
      "text/plain": [
       "<Figure size 640x480 with 1 Axes>"
      ]
     },
     "metadata": {},
     "output_type": "display_data"
    }
   ],
   "source": [
    "sns.kdeplot(data=comparing_ds)\n",
    "plt.show()"
   ]
  },
  {
   "cell_type": "code",
   "execution_count": null,
   "id": "cc4be9d1",
   "metadata": {},
   "outputs": [],
   "source": []
  }
 ],
 "metadata": {
  "kernelspec": {
   "display_name": "Python 3 (ipykernel)",
   "language": "python",
   "name": "python3"
  },
  "language_info": {
   "codemirror_mode": {
    "name": "ipython",
    "version": 3
   },
   "file_extension": ".py",
   "mimetype": "text/x-python",
   "name": "python",
   "nbconvert_exporter": "python",
   "pygments_lexer": "ipython3",
   "version": "3.10.4"
  }
 },
 "nbformat": 4,
 "nbformat_minor": 5
}
